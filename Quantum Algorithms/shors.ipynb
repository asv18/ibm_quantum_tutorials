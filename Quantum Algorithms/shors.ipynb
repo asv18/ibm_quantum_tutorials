{
 "cells": [
  {
   "cell_type": "code",
   "execution_count": 4,
   "id": "34517a67",
   "metadata": {},
   "outputs": [],
   "source": [
    "from qiskit import QuantumCircuit, QuantumRegister, ClassicalRegister, transpile\n",
    "from qiskit.quantum_info.operators import Operator\n",
    "from qiskit.circuit.library import UnitaryGate\n",
    "from qiskit.circuit.library import QFT\n",
    "from qiskit_aer import AerSimulator\n",
    "import numpy as np\n",
    "from math import gcd, floor, log\n",
    "from fractions import Fraction\n",
    "import random"
   ]
  },
  {
   "cell_type": "markdown",
   "id": "437c7cfc",
   "metadata": {},
   "source": [
    "Define our modular multiplication gate:"
   ]
  },
  {
   "cell_type": "code",
   "execution_count": 5,
   "id": "1905bff4",
   "metadata": {},
   "outputs": [],
   "source": [
    "def mod_mult_gate(b,N):\n",
    "    if gcd(b,N)>1:\n",
    "        print(f\"Error: gcd({b},{N}) > 1\")\n",
    "    else:\n",
    "        n = floor(log(N-1,2)) + 1\n",
    "        U = np.full((2**n,2**n),0)\n",
    "        for x in range(N): U[b*x % N][x] = 1\n",
    "        for x in range(N,2**n): U[x][x] = 1\n",
    "        G = UnitaryGate(U)\n",
    "        G.name = f\"M_{b}\"\n",
    "        return G"
   ]
  },
  {
   "cell_type": "markdown",
   "id": "468ea018",
   "metadata": {},
   "source": [
    "Define a function that will build the quantum circuit associated with order-finding for some element $a\\in\\mathbb{Z}_N^*$"
   ]
  },
  {
   "cell_type": "code",
   "execution_count": 6,
   "id": "6c51acdf",
   "metadata": {},
   "outputs": [],
   "source": [
    "def order_finding_circuit(a,N):\n",
    "    if gcd(a,N)>1:\n",
    "        print(f\"Error: gcd({a},{N}) > 1\")\n",
    "    else:\n",
    "        n = floor(log(N-1,2)) + 1\n",
    "        m = 2*n\n",
    "\n",
    "        control = QuantumRegister(m, name = \"X\")\n",
    "        target = QuantumRegister(n, name = \"Y\")\n",
    "        output = ClassicalRegister(m, name = \"Z\")\n",
    "        circuit = QuantumCircuit(control, target, output)\n",
    "\n",
    "        # Initialize the target register to the state |1>\n",
    "        circuit.x(m)\n",
    "\n",
    "        # Add the Hadamard gates and controlled versions of the\n",
    "        # multiplication gates\n",
    "        for k, qubit in enumerate(control):\n",
    "            circuit.h(k)\n",
    "            b = pow(a,2**k,N)\n",
    "            circuit.compose(\n",
    "                mod_mult_gate(b,N).control(),\n",
    "                qubits = [qubit] + list(target),\n",
    "                inplace=True)\n",
    "\n",
    "        # Apply the inverse QFT to the control register\n",
    "        circuit.compose(\n",
    "            QFT(m, inverse=True),\n",
    "            qubits=control,\n",
    "            inplace=True)\n",
    "\n",
    "        # Measure the control register\n",
    "        circuit.measure(control, output)\n",
    "\n",
    "        return circuit"
   ]
  },
  {
   "cell_type": "markdown",
   "id": "47117521",
   "metadata": {},
   "source": [
    "Define a function that runs the order-finding circuit to determine the order of a given element using phase estimation + the continued fraction algorithm"
   ]
  },
  {
   "cell_type": "code",
   "execution_count": 14,
   "id": "84e20785",
   "metadata": {},
   "outputs": [],
   "source": [
    "def find_order(a,N):\n",
    "    if gcd(a,N)>1:\n",
    "        print(f\"Error: gcd({a},{N}) > 1\")\n",
    "    else:\n",
    "        n = floor(log(N-1,2)) + 1\n",
    "        m = 2*n\n",
    "        circuit = order_finding_circuit(a,N)\n",
    "        transpiled_circuit = transpile(circuit,AerSimulator())\n",
    "\n",
    "        while True:\n",
    "            result = AerSimulator().run(\n",
    "                transpiled_circuit,\n",
    "                shots=1,\n",
    "                memory=True).result()\n",
    "            y = int(result.get_memory()[0],2)\n",
    "            r = Fraction(y/2**m).limit_denominator(N).denominator\n",
    "            if pow(a,r,N)==1: break\n",
    "        return r"
   ]
  },
  {
   "cell_type": "markdown",
   "id": "cdc777b6",
   "metadata": {},
   "source": [
    "Finally, we can attempt to find a nontrivial factor of a given number $N$ through order-finding:"
   ]
  },
  {
   "cell_type": "code",
   "execution_count": null,
   "id": "92357d7e",
   "metadata": {},
   "outputs": [
    {
     "name": "stdout",
     "output_type": "stream",
     "text": [
      "The order of 55 modulo 57 is 9\n",
      "The order of 16 modulo 57 is 9\n",
      "The order of 50 modulo 57 is 6\n"
     ]
    },
    {
     "ename": "KeyboardInterrupt",
     "evalue": "",
     "output_type": "error",
     "traceback": [
      "\u001b[31m---------------------------------------------------------------------------\u001b[39m",
      "\u001b[31mKeyboardInterrupt\u001b[39m                         Traceback (most recent call last)",
      "\u001b[36mCell\u001b[39m\u001b[36m \u001b[39m\u001b[32mIn[18]\u001b[39m\u001b[32m, line 31\u001b[39m\n\u001b[32m     29\u001b[39m     \u001b[38;5;28mprint\u001b[39m(\u001b[33mf\u001b[39m\u001b[33m\"\u001b[39m\u001b[33mLucky guess of \u001b[39m\u001b[38;5;132;01m{\u001b[39;00ma\u001b[38;5;132;01m}\u001b[39;00m\u001b[33m modulo \u001b[39m\u001b[38;5;132;01m{\u001b[39;00mN\u001b[38;5;132;01m}\u001b[39;00m\u001b[33m\"\u001b[39m)\n\u001b[32m     30\u001b[39m \u001b[38;5;28;01melse\u001b[39;00m:\n\u001b[32m---> \u001b[39m\u001b[32m31\u001b[39m     r = \u001b[43mfind_order\u001b[49m\u001b[43m(\u001b[49m\u001b[43ma\u001b[49m\u001b[43m,\u001b[49m\u001b[43mN\u001b[49m\u001b[43m)\u001b[49m\n\u001b[32m     32\u001b[39m     \u001b[38;5;28mprint\u001b[39m(\u001b[33mf\u001b[39m\u001b[33m\"\u001b[39m\u001b[33mThe order of \u001b[39m\u001b[38;5;132;01m{\u001b[39;00ma\u001b[38;5;132;01m}\u001b[39;00m\u001b[33m modulo \u001b[39m\u001b[38;5;132;01m{\u001b[39;00mN\u001b[38;5;132;01m}\u001b[39;00m\u001b[33m is \u001b[39m\u001b[38;5;132;01m{\u001b[39;00mr\u001b[38;5;132;01m}\u001b[39;00m\u001b[33m\"\u001b[39m)\n\u001b[32m     33\u001b[39m     \u001b[38;5;28;01mif\u001b[39;00m r % \u001b[32m2\u001b[39m == \u001b[32m0\u001b[39m:\n",
      "\u001b[36mCell\u001b[39m\u001b[36m \u001b[39m\u001b[32mIn[14]\u001b[39m\u001b[32m, line 7\u001b[39m, in \u001b[36mfind_order\u001b[39m\u001b[34m(a, N)\u001b[39m\n\u001b[32m      5\u001b[39m n = floor(log(N-\u001b[32m1\u001b[39m,\u001b[32m2\u001b[39m)) + \u001b[32m1\u001b[39m\n\u001b[32m      6\u001b[39m m = \u001b[32m2\u001b[39m*n\n\u001b[32m----> \u001b[39m\u001b[32m7\u001b[39m circuit = \u001b[43morder_finding_circuit\u001b[49m\u001b[43m(\u001b[49m\u001b[43ma\u001b[49m\u001b[43m,\u001b[49m\u001b[43mN\u001b[49m\u001b[43m)\u001b[49m\n\u001b[32m      8\u001b[39m transpiled_circuit = transpile(circuit,AerSimulator())\n\u001b[32m     10\u001b[39m \u001b[38;5;28;01mwhile\u001b[39;00m \u001b[38;5;28;01mTrue\u001b[39;00m:\n",
      "\u001b[36mCell\u001b[39m\u001b[36m \u001b[39m\u001b[32mIn[6]\u001b[39m\u001b[32m, line 22\u001b[39m, in \u001b[36morder_finding_circuit\u001b[39m\u001b[34m(a, N)\u001b[39m\n\u001b[32m     19\u001b[39m     circuit.h(k)\n\u001b[32m     20\u001b[39m     b = \u001b[38;5;28mpow\u001b[39m(a,\u001b[32m2\u001b[39m**k,N)\n\u001b[32m     21\u001b[39m     circuit.compose(\n\u001b[32m---> \u001b[39m\u001b[32m22\u001b[39m         \u001b[43mmod_mult_gate\u001b[49m\u001b[43m(\u001b[49m\u001b[43mb\u001b[49m\u001b[43m,\u001b[49m\u001b[43mN\u001b[49m\u001b[43m)\u001b[49m\u001b[43m.\u001b[49m\u001b[43mcontrol\u001b[49m\u001b[43m(\u001b[49m\u001b[43m)\u001b[49m,\n\u001b[32m     23\u001b[39m         qubits = [qubit] + \u001b[38;5;28mlist\u001b[39m(target),\n\u001b[32m     24\u001b[39m         inplace=\u001b[38;5;28;01mTrue\u001b[39;00m)\n\u001b[32m     26\u001b[39m \u001b[38;5;66;03m# Apply the inverse QFT to the control register\u001b[39;00m\n\u001b[32m     27\u001b[39m circuit.compose(\n\u001b[32m     28\u001b[39m     QFT(m, inverse=\u001b[38;5;28;01mTrue\u001b[39;00m),\n\u001b[32m     29\u001b[39m     qubits=control,\n\u001b[32m     30\u001b[39m     inplace=\u001b[38;5;28;01mTrue\u001b[39;00m)\n",
      "\u001b[36mFile \u001b[39m\u001b[32m~/.venvs/qiskit-dev/lib64/python3.13/site-packages/qiskit/circuit/library/generalized_gates/unitary.py:195\u001b[39m, in \u001b[36mUnitaryGate.control\u001b[39m\u001b[34m(self, num_ctrl_qubits, label, ctrl_state, annotated)\u001b[39m\n\u001b[32m    187\u001b[39m     cmat = _compute_control_matrix(mat, num_ctrl_qubits, ctrl_state=\u001b[38;5;28;01mNone\u001b[39;00m)\n\u001b[32m    188\u001b[39m     iso = Isometry(cmat, \u001b[32m0\u001b[39m, \u001b[32m0\u001b[39m)\n\u001b[32m    189\u001b[39m     gate = ControlledGate(\n\u001b[32m    190\u001b[39m         \u001b[33m\"\u001b[39m\u001b[33mc-unitary\u001b[39m\u001b[33m\"\u001b[39m,\n\u001b[32m    191\u001b[39m         num_qubits=\u001b[38;5;28mself\u001b[39m.num_qubits + num_ctrl_qubits,\n\u001b[32m    192\u001b[39m         params=[mat],\n\u001b[32m    193\u001b[39m         label=label,\n\u001b[32m    194\u001b[39m         num_ctrl_qubits=num_ctrl_qubits,\n\u001b[32m--> \u001b[39m\u001b[32m195\u001b[39m         definition=\u001b[43miso\u001b[49m\u001b[43m.\u001b[49m\u001b[43mdefinition\u001b[49m,\n\u001b[32m    196\u001b[39m         ctrl_state=ctrl_state,\n\u001b[32m    197\u001b[39m         base_gate=\u001b[38;5;28mself\u001b[39m.copy(),\n\u001b[32m    198\u001b[39m     )\n\u001b[32m    199\u001b[39m \u001b[38;5;28;01melse\u001b[39;00m:\n\u001b[32m    200\u001b[39m     gate = AnnotatedOperation(\n\u001b[32m    201\u001b[39m         \u001b[38;5;28mself\u001b[39m, ControlModifier(num_ctrl_qubits=num_ctrl_qubits, ctrl_state=ctrl_state)\n\u001b[32m    202\u001b[39m     )\n",
      "\u001b[36mFile \u001b[39m\u001b[32m~/.venvs/qiskit-dev/lib64/python3.13/site-packages/qiskit/circuit/instruction.py:297\u001b[39m, in \u001b[36mInstruction.definition\u001b[39m\u001b[34m(self)\u001b[39m\n\u001b[32m    295\u001b[39m \u001b[38;5;250m\u001b[39m\u001b[33;03m\"\"\"Return definition in terms of other basic gates.\"\"\"\u001b[39;00m\n\u001b[32m    296\u001b[39m \u001b[38;5;28;01mif\u001b[39;00m \u001b[38;5;28mself\u001b[39m._definition \u001b[38;5;129;01mis\u001b[39;00m \u001b[38;5;28;01mNone\u001b[39;00m:\n\u001b[32m--> \u001b[39m\u001b[32m297\u001b[39m     \u001b[38;5;28;43mself\u001b[39;49m\u001b[43m.\u001b[49m\u001b[43m_define\u001b[49m\u001b[43m(\u001b[49m\u001b[43m)\u001b[49m\n\u001b[32m    298\u001b[39m \u001b[38;5;28;01mreturn\u001b[39;00m \u001b[38;5;28mself\u001b[39m._definition\n",
      "\u001b[36mFile \u001b[39m\u001b[32m~/.venvs/qiskit-dev/lib64/python3.13/site-packages/qiskit/circuit/library/generalized_gates/isometry.py:125\u001b[39m, in \u001b[36mIsometry._define\u001b[39m\u001b[34m(self)\u001b[39m\n\u001b[32m    120\u001b[39m \u001b[38;5;28;01mdef\u001b[39;00m\u001b[38;5;250m \u001b[39m\u001b[34m_define\u001b[39m(\u001b[38;5;28mself\u001b[39m):\n\u001b[32m    121\u001b[39m     \u001b[38;5;66;03m# TODO The inverse().inverse() is because there is code to uncompute (_gates_to_uncompute)\u001b[39;00m\n\u001b[32m    122\u001b[39m     \u001b[38;5;66;03m#  an isometry, but not for generating its decomposition. It would be cheaper to do the\u001b[39;00m\n\u001b[32m    123\u001b[39m     \u001b[38;5;66;03m#  later here instead.\u001b[39;00m\n\u001b[32m    124\u001b[39m     gate = \u001b[38;5;28mself\u001b[39m.inv_gate()\n\u001b[32m--> \u001b[39m\u001b[32m125\u001b[39m     gate = \u001b[43mgate\u001b[49m\u001b[43m.\u001b[49m\u001b[43minverse\u001b[49m\u001b[43m(\u001b[49m\u001b[43m)\u001b[49m\n\u001b[32m    126\u001b[39m     q = QuantumRegister(\u001b[38;5;28mself\u001b[39m.num_qubits, \u001b[33m\"\u001b[39m\u001b[33mq\u001b[39m\u001b[33m\"\u001b[39m)\n\u001b[32m    127\u001b[39m     iso_circuit = QuantumCircuit(q, name=\u001b[33m\"\u001b[39m\u001b[33misometry\u001b[39m\u001b[33m\"\u001b[39m)\n",
      "\u001b[36mFile \u001b[39m\u001b[32m~/.venvs/qiskit-dev/lib64/python3.13/site-packages/qiskit/circuit/instruction.py:427\u001b[39m, in \u001b[36mInstruction.inverse\u001b[39m\u001b[34m(self, annotated)\u001b[39m\n\u001b[32m    425\u001b[39m inverse_definition.global_phase = -inverse_definition.global_phase\n\u001b[32m    426\u001b[39m \u001b[38;5;28;01mfor\u001b[39;00m inst \u001b[38;5;129;01min\u001b[39;00m \u001b[38;5;28mreversed\u001b[39m(\u001b[38;5;28mself\u001b[39m._definition):\n\u001b[32m--> \u001b[39m\u001b[32m427\u001b[39m     inverse_definition._append(\u001b[43minst\u001b[49m\u001b[43m.\u001b[49m\u001b[43moperation\u001b[49m\u001b[43m.\u001b[49m\u001b[43minverse\u001b[49m\u001b[43m(\u001b[49m\u001b[43m)\u001b[49m, inst.qubits, inst.clbits)\n\u001b[32m    428\u001b[39m inverse_gate.definition = inverse_definition\n\u001b[32m    429\u001b[39m \u001b[38;5;28;01mreturn\u001b[39;00m inverse_gate\n",
      "\u001b[36mFile \u001b[39m\u001b[32m~/.venvs/qiskit-dev/lib64/python3.13/site-packages/qiskit/circuit/library/generalized_gates/uc.py:189\u001b[39m, in \u001b[36mUCGate.inverse\u001b[39m\u001b[34m(self, annotated)\u001b[39m\n\u001b[32m    186\u001b[39m definition = QuantumCircuit(*\u001b[38;5;28mself\u001b[39m.definition.qregs)\n\u001b[32m    187\u001b[39m \u001b[38;5;28;01mfor\u001b[39;00m inst \u001b[38;5;129;01min\u001b[39;00m \u001b[38;5;28mreversed\u001b[39m(\u001b[38;5;28mself\u001b[39m._definition):\n\u001b[32m    188\u001b[39m     definition._append(\n\u001b[32m--> \u001b[39m\u001b[32m189\u001b[39m         inst.replace(operation=\u001b[43minst\u001b[49m\u001b[43m.\u001b[49m\u001b[43moperation\u001b[49m\u001b[43m.\u001b[49m\u001b[43minverse\u001b[49m\u001b[43m(\u001b[49m\u001b[43mannotated\u001b[49m\u001b[43m=\u001b[49m\u001b[43mannotated\u001b[49m\u001b[43m)\u001b[49m)\n\u001b[32m    190\u001b[39m     )\n\u001b[32m    192\u001b[39m definition.global_phase = -\u001b[38;5;28mself\u001b[39m.definition.global_phase\n\u001b[32m    194\u001b[39m inverse_gate.definition = definition\n",
      "\u001b[36mFile \u001b[39m\u001b[32m~/.venvs/qiskit-dev/lib64/python3.13/site-packages/qiskit/circuit/library/generalized_gates/unitary.py:125\u001b[39m, in \u001b[36mUnitaryGate.inverse\u001b[39m\u001b[34m(self, annotated)\u001b[39m\n\u001b[32m    123\u001b[39m \u001b[38;5;28;01mdef\u001b[39;00m\u001b[38;5;250m \u001b[39m\u001b[34minverse\u001b[39m(\u001b[38;5;28mself\u001b[39m, annotated: \u001b[38;5;28mbool\u001b[39m = \u001b[38;5;28;01mFalse\u001b[39;00m):\n\u001b[32m    124\u001b[39m \u001b[38;5;250m    \u001b[39m\u001b[33;03m\"\"\"Return the adjoint of the unitary.\"\"\"\u001b[39;00m\n\u001b[32m--> \u001b[39m\u001b[32m125\u001b[39m     \u001b[38;5;28;01mreturn\u001b[39;00m \u001b[38;5;28;43mself\u001b[39;49m\u001b[43m.\u001b[49m\u001b[43madjoint\u001b[49m\u001b[43m(\u001b[49m\u001b[43m)\u001b[49m\n",
      "\u001b[36mFile \u001b[39m\u001b[32m~/.venvs/qiskit-dev/lib64/python3.13/site-packages/qiskit/circuit/library/generalized_gates/unitary.py:133\u001b[39m, in \u001b[36mUnitaryGate.adjoint\u001b[39m\u001b[34m(self)\u001b[39m\n\u001b[32m    131\u001b[39m \u001b[38;5;28;01mdef\u001b[39;00m\u001b[38;5;250m \u001b[39m\u001b[34madjoint\u001b[39m(\u001b[38;5;28mself\u001b[39m):\n\u001b[32m    132\u001b[39m \u001b[38;5;250m    \u001b[39m\u001b[33;03m\"\"\"Return the adjoint of the unitary.\"\"\"\u001b[39;00m\n\u001b[32m--> \u001b[39m\u001b[32m133\u001b[39m     \u001b[38;5;28;01mreturn\u001b[39;00m \u001b[38;5;28;43mself\u001b[39;49m\u001b[43m.\u001b[49m\u001b[43mtranspose\u001b[49m\u001b[43m(\u001b[49m\u001b[43m)\u001b[49m.conjugate()\n",
      "\u001b[36mFile \u001b[39m\u001b[32m~/.venvs/qiskit-dev/lib64/python3.13/site-packages/qiskit/circuit/library/generalized_gates/unitary.py:137\u001b[39m, in \u001b[36mUnitaryGate.transpose\u001b[39m\u001b[34m(self)\u001b[39m\n\u001b[32m    135\u001b[39m \u001b[38;5;28;01mdef\u001b[39;00m\u001b[38;5;250m \u001b[39m\u001b[34mtranspose\u001b[39m(\u001b[38;5;28mself\u001b[39m):\n\u001b[32m    136\u001b[39m \u001b[38;5;250m    \u001b[39m\u001b[33;03m\"\"\"Return the transpose of the unitary.\"\"\"\u001b[39;00m\n\u001b[32m--> \u001b[39m\u001b[32m137\u001b[39m     \u001b[38;5;28;01mreturn\u001b[39;00m \u001b[43mUnitaryGate\u001b[49m\u001b[43m(\u001b[49m\u001b[43mnumpy\u001b[49m\u001b[43m.\u001b[49m\u001b[43mtranspose\u001b[49m\u001b[43m(\u001b[49m\u001b[38;5;28;43mself\u001b[39;49m\u001b[43m.\u001b[49m\u001b[43mto_matrix\u001b[49m\u001b[43m(\u001b[49m\u001b[43m)\u001b[49m\u001b[43m)\u001b[49m\u001b[43m)\u001b[49m\n",
      "\u001b[36mFile \u001b[39m\u001b[32m~/.venvs/qiskit-dev/lib64/python3.13/site-packages/qiskit/circuit/library/generalized_gates/unitary.py:103\u001b[39m, in \u001b[36mUnitaryGate.__init__\u001b[39m\u001b[34m(self, data, label, check_input, num_qubits)\u001b[39m\n\u001b[32m    100\u001b[39m num_qubits = num_qubits \u001b[38;5;28;01mif\u001b[39;00m num_qubits \u001b[38;5;129;01mis\u001b[39;00m \u001b[38;5;129;01mnot\u001b[39;00m \u001b[38;5;28;01mNone\u001b[39;00m \u001b[38;5;28;01melse\u001b[39;00m \u001b[38;5;28mint\u001b[39m(math.log2(input_dim))\n\u001b[32m    101\u001b[39m \u001b[38;5;28;01mif\u001b[39;00m check_input:\n\u001b[32m    102\u001b[39m     \u001b[38;5;66;03m# Check input is unitary\u001b[39;00m\n\u001b[32m--> \u001b[39m\u001b[32m103\u001b[39m     \u001b[38;5;28;01mif\u001b[39;00m \u001b[38;5;129;01mnot\u001b[39;00m \u001b[43mis_unitary_matrix\u001b[49m\u001b[43m(\u001b[49m\u001b[43mdata\u001b[49m\u001b[43m)\u001b[49m:\n\u001b[32m    104\u001b[39m         \u001b[38;5;28;01mraise\u001b[39;00m \u001b[38;5;167;01mValueError\u001b[39;00m(\u001b[33m\"\u001b[39m\u001b[33mInput matrix is not unitary.\u001b[39m\u001b[33m\"\u001b[39m)\n\u001b[32m    105\u001b[39m     \u001b[38;5;66;03m# Check input is N-qubit matrix\u001b[39;00m\n",
      "\u001b[36mFile \u001b[39m\u001b[32m~/.venvs/qiskit-dev/lib64/python3.13/site-packages/qiskit/quantum_info/operators/predicates.py:174\u001b[39m, in \u001b[36mis_unitary_matrix\u001b[39m\u001b[34m(mat, rtol, atol)\u001b[39m\n\u001b[32m    172\u001b[39m \u001b[38;5;66;03m# Compute A^dagger.A and see if it is identity matrix\u001b[39;00m\n\u001b[32m    173\u001b[39m mat = np.conj(mat.T).dot(mat)\n\u001b[32m--> \u001b[39m\u001b[32m174\u001b[39m \u001b[38;5;28;01mreturn\u001b[39;00m \u001b[43mis_identity_matrix\u001b[49m\u001b[43m(\u001b[49m\u001b[43mmat\u001b[49m\u001b[43m,\u001b[49m\u001b[43m \u001b[49m\u001b[43mignore_phase\u001b[49m\u001b[43m=\u001b[49m\u001b[38;5;28;43;01mFalse\u001b[39;49;00m\u001b[43m,\u001b[49m\u001b[43m \u001b[49m\u001b[43mrtol\u001b[49m\u001b[43m=\u001b[49m\u001b[43mrtol\u001b[49m\u001b[43m,\u001b[49m\u001b[43m \u001b[49m\u001b[43matol\u001b[49m\u001b[43m=\u001b[49m\u001b[43matol\u001b[49m\u001b[43m)\u001b[49m\n",
      "\u001b[36mFile \u001b[39m\u001b[32m~/.venvs/qiskit-dev/lib64/python3.13/site-packages/qiskit/quantum_info/operators/predicates.py:166\u001b[39m, in \u001b[36mis_identity_matrix\u001b[39m\u001b[34m(mat, ignore_phase, rtol, atol)\u001b[39m\n\u001b[32m    164\u001b[39m \u001b[38;5;66;03m# Check if square identity\u001b[39;00m\n\u001b[32m    165\u001b[39m iden = np.eye(\u001b[38;5;28mlen\u001b[39m(mat))\n\u001b[32m--> \u001b[39m\u001b[32m166\u001b[39m \u001b[38;5;28;01mreturn\u001b[39;00m \u001b[43mnp\u001b[49m\u001b[43m.\u001b[49m\u001b[43mallclose\u001b[49m\u001b[43m(\u001b[49m\u001b[43mmat\u001b[49m\u001b[43m,\u001b[49m\u001b[43m \u001b[49m\u001b[43miden\u001b[49m\u001b[43m,\u001b[49m\u001b[43m \u001b[49m\u001b[43mrtol\u001b[49m\u001b[43m=\u001b[49m\u001b[43mrtol\u001b[49m\u001b[43m,\u001b[49m\u001b[43m \u001b[49m\u001b[43matol\u001b[49m\u001b[43m=\u001b[49m\u001b[43matol\u001b[49m\u001b[43m)\u001b[49m\n",
      "\u001b[36mFile \u001b[39m\u001b[32m~/.venvs/qiskit-dev/lib64/python3.13/site-packages/numpy/_core/numeric.py:2329\u001b[39m, in \u001b[36mallclose\u001b[39m\u001b[34m(a, b, rtol, atol, equal_nan)\u001b[39m\n\u001b[32m   2243\u001b[39m \u001b[38;5;129m@array_function_dispatch\u001b[39m(_allclose_dispatcher)\n\u001b[32m   2244\u001b[39m \u001b[38;5;28;01mdef\u001b[39;00m\u001b[38;5;250m \u001b[39m\u001b[34mallclose\u001b[39m(a, b, rtol=\u001b[32m1.e-5\u001b[39m, atol=\u001b[32m1.e-8\u001b[39m, equal_nan=\u001b[38;5;28;01mFalse\u001b[39;00m):\n\u001b[32m   2245\u001b[39m \u001b[38;5;250m    \u001b[39m\u001b[33;03m\"\"\"\u001b[39;00m\n\u001b[32m   2246\u001b[39m \u001b[33;03m    Returns True if two arrays are element-wise equal within a tolerance.\u001b[39;00m\n\u001b[32m   2247\u001b[39m \n\u001b[32m   (...)\u001b[39m\u001b[32m   2327\u001b[39m \n\u001b[32m   2328\u001b[39m \u001b[33;03m    \"\"\"\u001b[39;00m\n\u001b[32m-> \u001b[39m\u001b[32m2329\u001b[39m     res = \u001b[38;5;28;43mall\u001b[39;49m\u001b[43m(\u001b[49m\u001b[43misclose\u001b[49m\u001b[43m(\u001b[49m\u001b[43ma\u001b[49m\u001b[43m,\u001b[49m\u001b[43m \u001b[49m\u001b[43mb\u001b[49m\u001b[43m,\u001b[49m\u001b[43m \u001b[49m\u001b[43mrtol\u001b[49m\u001b[43m=\u001b[49m\u001b[43mrtol\u001b[49m\u001b[43m,\u001b[49m\u001b[43m \u001b[49m\u001b[43matol\u001b[49m\u001b[43m=\u001b[49m\u001b[43matol\u001b[49m\u001b[43m,\u001b[49m\u001b[43m \u001b[49m\u001b[43mequal_nan\u001b[49m\u001b[43m=\u001b[49m\u001b[43mequal_nan\u001b[49m\u001b[43m)\u001b[49m\u001b[43m)\u001b[49m\n\u001b[32m   2330\u001b[39m     \u001b[38;5;28;01mreturn\u001b[39;00m builtins.bool(res)\n",
      "\u001b[36mFile \u001b[39m\u001b[32m~/.venvs/qiskit-dev/lib64/python3.13/site-packages/numpy/_core/fromnumeric.py:2675\u001b[39m, in \u001b[36mall\u001b[39m\u001b[34m(a, axis, out, keepdims, where)\u001b[39m\n\u001b[32m   2589\u001b[39m \u001b[38;5;129m@array_function_dispatch\u001b[39m(_all_dispatcher)\n\u001b[32m   2590\u001b[39m \u001b[38;5;28;01mdef\u001b[39;00m\u001b[38;5;250m \u001b[39m\u001b[34mall\u001b[39m(a, axis=\u001b[38;5;28;01mNone\u001b[39;00m, out=\u001b[38;5;28;01mNone\u001b[39;00m, keepdims=np._NoValue, *, where=np._NoValue):\n\u001b[32m   2591\u001b[39m \u001b[38;5;250m    \u001b[39m\u001b[33;03m\"\"\"\u001b[39;00m\n\u001b[32m   2592\u001b[39m \u001b[33;03m    Test whether all array elements along a given axis evaluate to True.\u001b[39;00m\n\u001b[32m   2593\u001b[39m \n\u001b[32m   (...)\u001b[39m\u001b[32m   2673\u001b[39m \n\u001b[32m   2674\u001b[39m \u001b[33;03m    \"\"\"\u001b[39;00m\n\u001b[32m-> \u001b[39m\u001b[32m2675\u001b[39m     \u001b[38;5;28;01mreturn\u001b[39;00m \u001b[43m_wrapreduction_any_all\u001b[49m\u001b[43m(\u001b[49m\u001b[43ma\u001b[49m\u001b[43m,\u001b[49m\u001b[43m \u001b[49m\u001b[43mnp\u001b[49m\u001b[43m.\u001b[49m\u001b[43mlogical_and\u001b[49m\u001b[43m,\u001b[49m\u001b[43m \u001b[49m\u001b[33;43m'\u001b[39;49m\u001b[33;43mall\u001b[39;49m\u001b[33;43m'\u001b[39;49m\u001b[43m,\u001b[49m\u001b[43m \u001b[49m\u001b[43maxis\u001b[49m\u001b[43m,\u001b[49m\u001b[43m \u001b[49m\u001b[43mout\u001b[49m\u001b[43m,\u001b[49m\n\u001b[32m   2676\u001b[39m \u001b[43m                                  \u001b[49m\u001b[43mkeepdims\u001b[49m\u001b[43m=\u001b[49m\u001b[43mkeepdims\u001b[49m\u001b[43m,\u001b[49m\u001b[43m \u001b[49m\u001b[43mwhere\u001b[49m\u001b[43m=\u001b[49m\u001b[43mwhere\u001b[49m\u001b[43m)\u001b[49m\n",
      "\u001b[36mFile \u001b[39m\u001b[32m~/.venvs/qiskit-dev/lib64/python3.13/site-packages/numpy/_core/fromnumeric.py:102\u001b[39m, in \u001b[36m_wrapreduction_any_all\u001b[39m\u001b[34m(obj, ufunc, method, axis, out, **kwargs)\u001b[39m\n\u001b[32m     99\u001b[39m     \u001b[38;5;28;01melse\u001b[39;00m:\n\u001b[32m    100\u001b[39m         \u001b[38;5;28;01mreturn\u001b[39;00m reduction(axis=axis, out=out, **passkwargs)\n\u001b[32m--> \u001b[39m\u001b[32m102\u001b[39m \u001b[38;5;28;01mreturn\u001b[39;00m \u001b[43mufunc\u001b[49m\u001b[43m.\u001b[49m\u001b[43mreduce\u001b[49m\u001b[43m(\u001b[49m\u001b[43mobj\u001b[49m\u001b[43m,\u001b[49m\u001b[43m \u001b[49m\u001b[43maxis\u001b[49m\u001b[43m,\u001b[49m\u001b[43m \u001b[49m\u001b[38;5;28;43mbool\u001b[39;49m\u001b[43m,\u001b[49m\u001b[43m \u001b[49m\u001b[43mout\u001b[49m\u001b[43m,\u001b[49m\u001b[43m \u001b[49m\u001b[43m*\u001b[49m\u001b[43m*\u001b[49m\u001b[43mpasskwargs\u001b[49m\u001b[43m)\u001b[49m\n",
      "\u001b[31mKeyboardInterrupt\u001b[39m: "
     ]
    }
   ],
   "source": [
    "N = 57\n",
    "\n",
    "FACTOR_FOUND = False\n",
    "\n",
    "# First we'll check to see if N is even or a nontrivial power.\n",
    "# Order finding won't help for factoring a *prime* power, but\n",
    "# we can easily find a nontrivial factor of *any* nontrivial\n",
    "# power, whether prime or not.\n",
    "\n",
    "if N % 2 == 0:\n",
    "    print(\"Even number\")\n",
    "    d = 2\n",
    "    FACTOR_FOUND = True\n",
    "else:\n",
    "    for k in range(2,round(log(N,2))+1):\n",
    "        d = int(round(N ** (1/k)))\n",
    "        if d**k == N:\n",
    "            FACTOR_FOUND = True\n",
    "            print(\"Number is a power\")\n",
    "            break\n",
    "\n",
    "# Now we'll iterate until a nontrivial factor of N is found.\n",
    "\n",
    "while not FACTOR_FOUND:\n",
    "    # potential speed up: remove possibility of selecting already selected integers?\n",
    "    a = random.randint(2,N-1)\n",
    "    d = gcd(a,N)\n",
    "    if d>1:\n",
    "        FACTOR_FOUND = True\n",
    "        print(f\"Lucky guess of {a} modulo {N}\")\n",
    "    else:\n",
    "        r = find_order(a,N)\n",
    "        print(f\"The order of {a} modulo {N} is {r}\")\n",
    "        if r % 2 == 0:\n",
    "            x = pow(a,r//2,N) - 1\n",
    "            d = gcd(x,N)\n",
    "            if d>1: FACTOR_FOUND = True\n",
    "\n",
    "print(f\"Factor found: {d}\")"
   ]
  }
 ],
 "metadata": {
  "kernelspec": {
   "display_name": "qiskit-dev",
   "language": "python",
   "name": "python3"
  },
  "language_info": {
   "codemirror_mode": {
    "name": "ipython",
    "version": 3
   },
   "file_extension": ".py",
   "mimetype": "text/x-python",
   "name": "python",
   "nbconvert_exporter": "python",
   "pygments_lexer": "ipython3",
   "version": "3.13.3"
  }
 },
 "nbformat": 4,
 "nbformat_minor": 5
}
