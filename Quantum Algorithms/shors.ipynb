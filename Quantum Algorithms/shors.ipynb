{
 "cells": [
  {
   "cell_type": "code",
   "execution_count": 4,
   "id": "34517a67",
   "metadata": {},
   "outputs": [],
   "source": [
    "from qiskit import QuantumCircuit, QuantumRegister, ClassicalRegister, transpile\n",
    "from qiskit.quantum_info.operators import Operator\n",
    "from qiskit.circuit.library import UnitaryGate\n",
    "from qiskit.circuit.library import QFT\n",
    "from qiskit_aer import AerSimulator\n",
    "import numpy as np\n",
    "from math import gcd, floor, log\n",
    "from fractions import Fraction\n",
    "import random"
   ]
  },
  {
   "cell_type": "markdown",
   "id": "437c7cfc",
   "metadata": {},
   "source": [
    "Define our modular multiplication gate:"
   ]
  },
  {
   "cell_type": "code",
   "execution_count": 5,
   "id": "1905bff4",
   "metadata": {},
   "outputs": [],
   "source": [
    "def mod_mult_gate(b,N):\n",
    "    if gcd(b,N)>1:\n",
    "        print(f\"Error: gcd({b},{N}) > 1\")\n",
    "    else:\n",
    "        n = floor(log(N-1,2)) + 1\n",
    "        U = np.full((2**n,2**n),0)\n",
    "        for x in range(N): U[b*x % N][x] = 1\n",
    "        for x in range(N,2**n): U[x][x] = 1\n",
    "        G = UnitaryGate(U)\n",
    "        G.name = f\"M_{b}\"\n",
    "        return G"
   ]
  },
  {
   "cell_type": "markdown",
   "id": "468ea018",
   "metadata": {},
   "source": [
    "Define a function that will build the quantum circuit associated with order-finding for some element $a\\in\\mathbb{Z}_N^*$"
   ]
  },
  {
   "cell_type": "code",
   "execution_count": 6,
   "id": "6c51acdf",
   "metadata": {},
   "outputs": [],
   "source": [
    "def order_finding_circuit(a,N):\n",
    "    if gcd(a,N)>1:\n",
    "        print(f\"Error: gcd({a},{N}) > 1\")\n",
    "    else:\n",
    "        n = floor(log(N-1,2)) + 1\n",
    "        m = 2*n\n",
    "\n",
    "        control = QuantumRegister(m, name = \"X\")\n",
    "        target = QuantumRegister(n, name = \"Y\")\n",
    "        output = ClassicalRegister(m, name = \"Z\")\n",
    "        circuit = QuantumCircuit(control, target, output)\n",
    "\n",
    "        # Initialize the target register to the state |1>\n",
    "        circuit.x(m)\n",
    "\n",
    "        # Add the Hadamard gates and controlled versions of the\n",
    "        # multiplication gates\n",
    "        for k, qubit in enumerate(control):\n",
    "            circuit.h(k)\n",
    "            b = pow(a,2**k,N)\n",
    "            circuit.compose(\n",
    "                mod_mult_gate(b,N).control(),\n",
    "                qubits = [qubit] + list(target),\n",
    "                inplace=True)\n",
    "\n",
    "        # Apply the inverse QFT to the control register\n",
    "        circuit.compose(\n",
    "            QFT(m, inverse=True),\n",
    "            qubits=control,\n",
    "            inplace=True)\n",
    "\n",
    "        # Measure the control register\n",
    "        circuit.measure(control, output)\n",
    "\n",
    "        return circuit"
   ]
  },
  {
   "cell_type": "markdown",
   "id": "47117521",
   "metadata": {},
   "source": [
    "Define a function that runs the order-finding circuit to determine the order of a given element using phase estimation + the continued fraction algorithm"
   ]
  },
  {
   "cell_type": "code",
   "execution_count": 14,
   "id": "84e20785",
   "metadata": {},
   "outputs": [],
   "source": [
    "def find_order(a,N):\n",
    "    if gcd(a,N)>1:\n",
    "        print(f\"Error: gcd({a},{N}) > 1\")\n",
    "    else:\n",
    "        n = floor(log(N-1,2)) + 1\n",
    "        m = 2*n\n",
    "        circuit = order_finding_circuit(a,N)\n",
    "        transpiled_circuit = transpile(circuit,AerSimulator())\n",
    "\n",
    "        while True:\n",
    "            result = AerSimulator().run(\n",
    "                transpiled_circuit,\n",
    "                shots=1,\n",
    "                memory=True).result()\n",
    "            y = int(result.get_memory()[0],2)\n",
    "            r = Fraction(y/2**m).limit_denominator(N).denominator\n",
    "            if pow(a,r,N)==1: break\n",
    "        return r"
   ]
  },
  {
   "cell_type": "markdown",
   "id": "cdc777b6",
   "metadata": {},
   "source": [
    "Finally, we can attempt to find a nontrivial factor of a given number $N$ through order-finding:"
   ]
  },
  {
   "cell_type": "code",
   "execution_count": 16,
   "id": "92357d7e",
   "metadata": {},
   "outputs": [
    {
     "name": "stdout",
     "output_type": "stream",
     "text": [
      "The order of 5 modulo 39 is 4\n",
      "Factor found: 3\n"
     ]
    }
   ],
   "source": [
    "N = 39\n",
    "\n",
    "FACTOR_FOUND = False\n",
    "\n",
    "# First we'll check to see if N is even or a nontrivial power.\n",
    "# Order finding won't help for factoring a *prime* power, but\n",
    "# we can easily find a nontrivial factor of *any* nontrivial\n",
    "# power, whether prime or not.\n",
    "\n",
    "if N % 2 == 0:\n",
    "    print(\"Even number\")\n",
    "    d = 2\n",
    "    FACTOR_FOUND = True\n",
    "else:\n",
    "    for k in range(2,round(log(N,2))+1):\n",
    "        d = int(round(N ** (1/k)))\n",
    "        if d**k == N:\n",
    "            FACTOR_FOUND = True\n",
    "            print(\"Number is a power\")\n",
    "            break\n",
    "\n",
    "# Now we'll iterate until a nontrivial factor of N is found.\n",
    "\n",
    "while not FACTOR_FOUND:\n",
    "    a = random.randint(2,N-1)\n",
    "    d = gcd(a,N)\n",
    "    if d>1:\n",
    "        FACTOR_FOUND = True\n",
    "        print(f\"Lucky guess of {a} modulo {N}\")\n",
    "    else:\n",
    "        r = find_order(a,N)\n",
    "        print(f\"The order of {a} modulo {N} is {r}\")\n",
    "        if r % 2 == 0:\n",
    "            x = pow(a,r//2,N) - 1\n",
    "            d = gcd(x,N)\n",
    "            if d>1: FACTOR_FOUND = True\n",
    "\n",
    "print(f\"Factor found: {d}\")"
   ]
  }
 ],
 "metadata": {
  "kernelspec": {
   "display_name": "qiskit-dev",
   "language": "python",
   "name": "python3"
  },
  "language_info": {
   "codemirror_mode": {
    "name": "ipython",
    "version": 3
   },
   "file_extension": ".py",
   "mimetype": "text/x-python",
   "name": "python",
   "nbconvert_exporter": "python",
   "pygments_lexer": "ipython3",
   "version": "3.13.3"
  }
 },
 "nbformat": 4,
 "nbformat_minor": 5
}
