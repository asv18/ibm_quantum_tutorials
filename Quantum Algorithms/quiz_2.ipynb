{
 "cells": [
  {
   "cell_type": "code",
   "execution_count": 1,
   "id": "c7490849",
   "metadata": {},
   "outputs": [],
   "source": [
    "from qiskit import QuantumCircuit\n",
    "from qiskit_aer import AerSimulator"
   ]
  },
  {
   "cell_type": "code",
   "execution_count": 13,
   "id": "e226a6fc",
   "metadata": {},
   "outputs": [],
   "source": [
    "def deutsch_function(case: int):\n",
    "    # This function generates a quantum circuit for one of the 4 functions\n",
    "    # from one bit to one bit\n",
    "\n",
    "    if case not in [1, 2, 3, 4]:\n",
    "        raise ValueError(\"`case` must be 1, 2, 3, or 4.\")\n",
    "\n",
    "    f = QuantumCircuit(2)\n",
    "    if case in [2, 3]:\n",
    "        f.cx(0, 1)\n",
    "    if case in [3, 4]:\n",
    "        f.x(1)\n",
    "        \n",
    "    return f"
   ]
  },
  {
   "cell_type": "code",
   "execution_count": 19,
   "id": "15be6684",
   "metadata": {},
   "outputs": [],
   "source": [
    "def compile_circuit(function: QuantumCircuit):\n",
    "    # Compiles a circuit for use in Deutsch's algorithm.\n",
    "\n",
    "    n = function.num_qubits - 1\n",
    "    qc = QuantumCircuit(n + 1, n)\n",
    "\n",
    "    qc.h(0)\n",
    "\n",
    "    qc.barrier()\n",
    "    qc.compose(function, inplace=True)\n",
    "    qc.barrier()\n",
    "\n",
    "    qc.h(0)\n",
    "    qc.measure(range(n), range(n))\n",
    "\n",
    "    return qc"
   ]
  },
  {
   "cell_type": "code",
   "execution_count": 17,
   "id": "1c6d1752",
   "metadata": {},
   "outputs": [
    {
     "data": {
      "image/png": "[encoded data removed]",
      "text/plain": [
       "<Figure size 621.739x284.278 with 1 Axes>"
      ]
     },
     "metadata": {},
     "output_type": "display_data"
    }
   ],
   "source": [
    "display(compile_circuit(deutsch_function(2)).draw(output=\"mpl\"))"
   ]
  },
  {
   "cell_type": "code",
   "execution_count": 22,
   "id": "5613e290",
   "metadata": {},
   "outputs": [
    {
     "name": "stdout",
     "output_type": "stream",
     "text": [
      "{'0': 1.0}\n"
     ]
    }
   ],
   "source": [
    "simulator = AerSimulator()\n",
    "circuit = compile_circuit(deutsch_function(4))\n",
    "result = simulator.run(circuit).result()\n",
    "counts = result.get_counts()\n",
    "total_shots = sum(counts.values())\n",
    "probabilities = {k: v / total_shots for k, v in counts.items()}\n",
    "print(probabilities)"
   ]
  },
  {
   "cell_type": "code",
   "execution_count": 28,
   "id": "7dadcc23",
   "metadata": {},
   "outputs": [
    {
     "name": "stdout",
     "output_type": "stream",
     "text": [
      "169\n",
      "118\n",
      "148\n",
      "76\n",
      "64\n",
      "139\n",
      "190\n",
      "160\n",
      "1\n",
      "r = 10, n = 13, N = 231\n"
     ]
    }
   ],
   "source": [
    "r = 1\n",
    "n = 13\n",
    "N = 231\n",
    "\n",
    "temp = n\n",
    "while temp != 1:\n",
    "    r += 1\n",
    "    temp *= n\n",
    "    temp %= N\n",
    "\n",
    "    print(temp)\n",
    "\n",
    "print(f\"r = {r}, n = {n}, N = {N}\")"
   ]
  },
  {
   "cell_type": "code",
   "execution_count": null,
   "id": "457ecc15",
   "metadata": {},
   "outputs": [
    {
     "name": "stdout",
     "output_type": "stream",
     "text": [
      "x = 10725\n",
      "gcd(10725, 12155) = 715\n"
     ]
    }
   ],
   "source": [
    "a = 3\n",
    "N = 12155\n",
    "r = 240\n",
    "\n",
    "x = (a**(r // 2) - 1) % N\n",
    "\n",
    "print(f\"x = {x}\")\n",
    "\n",
    "from math import gcd\n",
    "\n",
    "d = gcd(x, N)\n",
    "\n",
    "print(f\"gcd({x}, {N}) = {d}\")"
   ]
  }
 ],
 "metadata": {
  "kernelspec": {
   "display_name": "qiskit-dev",
   "language": "python",
   "name": "python3"
  },
  "language_info": {
   "codemirror_mode": {
    "name": "ipython",
    "version": 3
   },
   "file_extension": ".py",
   "mimetype": "text/x-python",
   "name": "python",
   "nbconvert_exporter": "python",
   "pygments_lexer": "ipython3",
   "version": "3.13.3"
  }
 },
 "nbformat": 4,
 "nbformat_minor": 5
}
