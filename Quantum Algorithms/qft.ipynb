{
 "cells": [
  {
   "cell_type": "markdown",
   "id": "059db1c8",
   "metadata": {},
   "source": [
    "The following is some basic code for applying a QFT in Qiskit"
   ]
  },
  {
   "cell_type": "code",
   "execution_count": null,
   "id": "ce9fcac5",
   "metadata": {
    "vscode": {
     "languageId": "plaintext"
    }
   },
   "outputs": [],
   "source": [
    "from qiskit.circuit.library import QFT\n",
    "display(QFT(4).decompose().draw(output=\"mpl\"))"
   ]
  }
 ],
 "metadata": {
  "language_info": {
   "name": "python"
  }
 },
 "nbformat": 4,
 "nbformat_minor": 5
}
