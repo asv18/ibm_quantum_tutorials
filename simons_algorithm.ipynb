{
 "cells": [
  {
   "cell_type": "code",
   "execution_count": 1,
   "id": "0e139ffc",
   "metadata": {},
   "outputs": [],
   "source": [
    "from qiskit import QuantumCircuit\n",
    "from qiskit_aer import AerSimulator\n",
    "import numpy as np\n",
    "import galois"
   ]
  },
  {
   "cell_type": "markdown",
   "id": "0c3e434d",
   "metadata": {},
   "source": [
    "To implement Simon's algorithm, we will use the `.unitary` method"
   ]
  },
  {
   "cell_type": "code",
   "execution_count": 2,
   "id": "3d783204",
   "metadata": {},
   "outputs": [],
   "source": [
    "def simon_function(s: str):\n",
    "    # Create a QuantumCircuit implementing a query gate for Simon problem obeying the\n",
    "    # promise for the hidden string `s`\n",
    "\n",
    "    # The quantum circuit will have 2n qubits for n being the length of s\n",
    "    n = len(s)\n",
    "    qc = QuantumCircuit(2 * n)\n",
    "\n",
    "    # Define a random permutation of all n bit strings. This permutation will\n",
    "    # effectively hide the string s.\n",
    "    pi = np.random.permutation(2**n)\n",
    "\n",
    "    # Now we'll define a query gate explicitly. The idea is to first define a function\n",
    "    # g(x) = min{x,x ^ s}, which is a very simple function that satisfies the promise.\n",
    "    # (The operation ^ is the bitwise XOR.) Then we take f to be the composition of g\n",
    "    # and the random permutation pi. This gives us a random function satisfying the\n",
    "    # promise for s.\n",
    "\n",
    "    query_gate = np.zeros((4**n, 4**n))\n",
    "    for x in range(2**n):\n",
    "        for y in range(2**n):\n",
    "            z = y ^ pi[min(x, x ^ int(s, 2))]\n",
    "            query_gate[x + 2**n * z, x + 2**n * y] = 1\n",
    "\n",
    "    # Our circuit has just this one query gate\n",
    "    qc.unitary(query_gate, range(2 * n))\n",
    "    return qc"
   ]
  },
  {
   "cell_type": "markdown",
   "id": "cd637ff7",
   "metadata": {},
   "source": [
    "Next, we run the Simon problem circuit $k$ times and return the results:"
   ]
  },
  {
   "cell_type": "code",
   "execution_count": 12,
   "id": "25d7bedf",
   "metadata": {},
   "outputs": [],
   "source": [
    "def simon_measurements(problem: QuantumCircuit, k: int):\n",
    "    # This is the quantum part of Simon's algorithm. Given a `QuantumCircuit` that\n",
    "    # implements f, gets k measurement outcomes to be post-processed later.\n",
    "\n",
    "    n = problem.num_qubits // 2\n",
    "\n",
    "    qc = QuantumCircuit(2 * n, n)\n",
    "    qc.h(range(n))\n",
    "    qc.compose(problem, inplace=True)\n",
    "    qc.h(range(n))\n",
    "\n",
    "    display(qc.draw(\"mpl\"))\n",
    "    \n",
    "    qc.measure(range(n), range(n))\n",
    "\n",
    "    result = AerSimulator().run(qc, shots=k, memory=True).result()\n",
    "    return result.get_memory()"
   ]
  },
  {
   "cell_type": "code",
   "execution_count": 16,
   "id": "62ff1a57",
   "metadata": {},
   "outputs": [],
   "source": [
    "input = \"10011\""
   ]
  },
  {
   "cell_type": "markdown",
   "id": "3093ecff",
   "metadata": {},
   "source": [
    "Next, we follow up with our classical postprocessing step to compute the nullspace"
   ]
  },
  {
   "cell_type": "code",
   "execution_count": 6,
   "id": "74a95c8c",
   "metadata": {},
   "outputs": [],
   "source": [
    "def simon_algorithm(problem: QuantumCircuit):\n",
    "    # Given a `QuantumCircuit` that implements a query gate for Simon problem, return\n",
    "    # the hidden string `s`.\n",
    "\n",
    "    # Quantum part: run the circuit defined previously k times and gather the measurement\n",
    "    # results. Replace +10 by +r for any nonnegative integer r depending on desired\n",
    "    # confidence.\n",
    "\n",
    "    measurements = simon_measurements(problem, k=problem.num_qubits // 2 + 10)\n",
    "\n",
    "    # Classical post-processing:\n",
    "\n",
    "    # 1. Convert measurements of form '11101' to 2D-array of integers\n",
    "    matrix = np.array([list(bitstring) for bitstring in measurements]).astype(int)\n",
    "\n",
    "    # 2. Interpret matrix as using arithmetic mod 2, and find null space\n",
    "    null_space = galois.GF(2)(matrix).null_space()\n",
    "\n",
    "    # 3. Convert back to a string\n",
    "    print(\"Guess for hidden string s: \")\n",
    "    if len(null_space) == 0:\n",
    "        # No non-trivial solution; `s` is all-zeros\n",
    "        return \"0\" * len(measurements[0])\n",
    "    return \"\".join(np.array(null_space[0]).astype(str))"
   ]
  },
  {
   "cell_type": "code",
   "execution_count": null,
   "id": "3fdc9b91",
   "metadata": {},
   "outputs": [
    {
     "name": "stdout",
     "output_type": "stream",
     "text": [
      "Guess for hidden string s: \n"
     ]
    },
    {
     "data": {
      "text/plain": [
       "'10011'"
      ]
     },
     "metadata": {},
     "output_type": "display_data"
    }
   ],
   "source": [
    "display(simon_algorithm(simon_function(input)))"
   ]
  }
 ],
 "metadata": {
  "kernelspec": {
   "display_name": "qiskit-dev",
   "language": "python",
   "name": "python3"
  },
  "language_info": {
   "codemirror_mode": {
    "name": "ipython",
    "version": 3
   },
   "file_extension": ".py",
   "mimetype": "text/x-python",
   "name": "python",
   "nbconvert_exporter": "python",
   "pygments_lexer": "ipython3",
   "version": "3.13.3"
  }
 },
 "nbformat": 4,
 "nbformat_minor": 5
}
