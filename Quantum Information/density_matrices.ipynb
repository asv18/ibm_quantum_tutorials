{
 "cells": [
  {
   "cell_type": "markdown",
   "id": "04199029",
   "metadata": {},
   "source": [
    "We can generate some random examples of density matrices using qiskit and numpy"
   ]
  },
  {
   "cell_type": "code",
   "execution_count": 7,
   "id": "f83884a2",
   "metadata": {},
   "outputs": [
    {
     "name": "stdout",
     "output_type": "stream",
     "text": [
      "Imports loaded.\n"
     ]
    }
   ],
   "source": [
    "# Required imports for code cells\n",
    "\n",
    "from qiskit.quantum_info import Statevector, Operator, DensityMatrix\n",
    "from qiskit.visualization import array_to_latex\n",
    "import numpy as np\n",
    "from numpy import linalg\n",
    "\n",
    "print('Imports loaded.')"
   ]
  },
  {
   "cell_type": "code",
   "execution_count": 14,
   "id": "0072bdcb",
   "metadata": {},
   "outputs": [
    {
     "data": {
      "text/latex": [
       "$$\n",
       "\n",
       "\\begin{bmatrix}\n",
       "198 & -142 - 12 i & -24 - 5 i  \\\\\n",
       " -142 + 12 i & 289 & 71 - 36 i  \\\\\n",
       " -24 + 5 i & 71 + 36 i & 148  \\\\\n",
       " \\end{bmatrix}\n",
       "$$"
      ],
      "text/plain": [
       "<IPython.core.display.Latex object>"
      ]
     },
     "metadata": {},
     "output_type": "display_data"
    }
   ],
   "source": [
    "# Randomly generate a positive semidefinite matrix\n",
    "\n",
    "n = 3\n",
    "M = np.random.randint(-9, 10, size=(n, n)) + 1j * np.random.randint(-9, 10, size=(n, n))\n",
    "P = M.conj().T @ M\n",
    "\n",
    "display(array_to_latex(P))"
   ]
  },
  {
   "cell_type": "code",
   "execution_count": 15,
   "id": "c6b273ea",
   "metadata": {},
   "outputs": [
    {
     "name": "stdout",
     "output_type": "stream",
     "text": [
      "[[ True  True  True]\n",
      " [ True  True  True]\n",
      " [ True  True  True]]\n"
     ]
    }
   ],
   "source": [
    "print(P == P.conj().T)"
   ]
  },
  {
   "cell_type": "markdown",
   "id": "10b0e546",
   "metadata": {},
   "source": [
    "We can compute the eigenvalues to confirm that they are nonnegative real numbers"
   ]
  },
  {
   "cell_type": "code",
   "execution_count": 16,
   "id": "44c22045",
   "metadata": {},
   "outputs": [
    {
     "data": {
      "text/latex": [
       "$$\n",
       "\n",
       "\\begin{bmatrix}\n",
       "\\frac{156250 \\cdot 2^{\\frac{31}{33}} \\cdot 3^{\\frac{82}{99}} \\cdot 5^{\\frac{4}{11}} \\cdot 7^{\\frac{41}{99}}}{7203} & 144.9137629181 & 74.7070662379  \\\\\n",
       " \\end{bmatrix}\n",
       "$$"
      ],
      "text/plain": [
       "<IPython.core.display.Latex object>"
      ]
     },
     "metadata": {},
     "output_type": "display_data"
    }
   ],
   "source": [
    "# Compute the eigenvalues (in decreasing order)\n",
    "\n",
    "display(array_to_latex(np.sort(linalg.eigvals(P))[::-1]))"
   ]
  },
  {
   "cell_type": "markdown",
   "id": "c120b96e",
   "metadata": {},
   "source": [
    "We can generate a denisty matrix using a similar procedure and then dividng the matrix by its trace"
   ]
  },
  {
   "cell_type": "code",
   "execution_count": 17,
   "id": "64152777",
   "metadata": {},
   "outputs": [
    {
     "data": {
      "text/latex": [
       "$$\n",
       "\n",
       "\\begin{bmatrix}\n",
       "0.2652329749 & 0.1218637993 - 0.0215053763 i & 0.1433691756 + 0.1111111111 i  \\\\\n",
       " 0.1218637993 + 0.0215053763 i & 0.4283154122 & 0.1254480287 + 0.1630824373 i  \\\\\n",
       " 0.1433691756 - 0.1111111111 i & 0.1254480287 - 0.1630824373 i & 0.3064516129  \\\\\n",
       " \\end{bmatrix}\n",
       "$$"
      ],
      "text/plain": [
       "<IPython.core.display.Latex object>"
      ]
     },
     "metadata": {},
     "output_type": "display_data"
    }
   ],
   "source": [
    "# Randomly generate a density matrix\n",
    "\n",
    "n = 3\n",
    "M = np.random.randint(-9, 10, size=(n, n)) + 1j * np.random.randint(-9, 10, size=(n, n))\n",
    "P = M.conj().T @ M\n",
    "rho = P/np.trace(P)\n",
    "\n",
    "display(array_to_latex(rho))"
   ]
  },
  {
   "cell_type": "code",
   "execution_count": 18,
   "id": "5c79c927",
   "metadata": {},
   "outputs": [
    {
     "data": {
      "text/latex": [
       "$$\n",
       "\n",
       "\\begin{bmatrix}\n",
       "0.6865648334 & 0.2212026716 & 0.092232495  \\\\\n",
       " \\end{bmatrix}\n",
       "$$"
      ],
      "text/plain": [
       "<IPython.core.display.Latex object>"
      ]
     },
     "metadata": {},
     "output_type": "display_data"
    }
   ],
   "source": [
    "# Compute the eigenvalues (in decreasing order)\n",
    "\n",
    "display(array_to_latex(np.sort(linalg.eigvals(rho))[::-1]))"
   ]
  },
  {
   "cell_type": "code",
   "execution_count": 19,
   "id": "60ff04c3",
   "metadata": {},
   "outputs": [
    {
     "data": {
      "text/latex": [
       "$$\n",
       "\n",
       "\\begin{bmatrix}\n",
       "\\frac{3}{4} & \\frac{i}{8}  \\\\\n",
       " - \\frac{i}{8} & \\frac{1}{4}  \\\\\n",
       " \\end{bmatrix}\n",
       "$$"
      ],
      "text/plain": [
       "<IPython.core.display.Latex object>"
      ]
     },
     "metadata": {},
     "output_type": "display_data"
    }
   ],
   "source": [
    "# Initialize and display a density matrix\n",
    "# using the DensityMatrix package\n",
    "\n",
    "rho = DensityMatrix([[3/4, 1j/8],[-1j/8,1/4]])\n",
    "display(rho.draw('latex'))"
   ]
  },
  {
   "cell_type": "markdown",
   "id": "d3eca8a7",
   "metadata": {},
   "source": [
    "We define some basic state vectors and compute the density matrix formed from them:"
   ]
  },
  {
   "cell_type": "code",
   "execution_count": 20,
   "id": "6dbc029c",
   "metadata": {},
   "outputs": [
    {
     "data": {
      "text/latex": [
       "$$\n",
       "\n",
       "\\begin{bmatrix}\n",
       "1 & 0  \\\\\n",
       " 0 & 0  \\\\\n",
       " \\end{bmatrix}\n",
       "$$"
      ],
      "text/plain": [
       "<IPython.core.display.Latex object>"
      ]
     },
     "metadata": {},
     "output_type": "display_data"
    },
    {
     "data": {
      "text/latex": [
       "$$\n",
       "\n",
       "\\begin{bmatrix}\n",
       "0 & 0  \\\\\n",
       " 0 & 1  \\\\\n",
       " \\end{bmatrix}\n",
       "$$"
      ],
      "text/plain": [
       "<IPython.core.display.Latex object>"
      ]
     },
     "metadata": {},
     "output_type": "display_data"
    },
    {
     "data": {
      "text/latex": [
       "$$\n",
       "\n",
       "\\begin{bmatrix}\n",
       "\\frac{1}{2} & \\frac{1}{2}  \\\\\n",
       " \\frac{1}{2} & \\frac{1}{2}  \\\\\n",
       " \\end{bmatrix}\n",
       "$$"
      ],
      "text/plain": [
       "<IPython.core.display.Latex object>"
      ]
     },
     "metadata": {},
     "output_type": "display_data"
    },
    {
     "data": {
      "text/latex": [
       "$$\n",
       "\n",
       "\\begin{bmatrix}\n",
       "\\frac{1}{2} & - \\frac{1}{2}  \\\\\n",
       " - \\frac{1}{2} & \\frac{1}{2}  \\\\\n",
       " \\end{bmatrix}\n",
       "$$"
      ],
      "text/plain": [
       "<IPython.core.display.Latex object>"
      ]
     },
     "metadata": {},
     "output_type": "display_data"
    },
    {
     "data": {
      "text/latex": [
       "$$\n",
       "\n",
       "\\begin{bmatrix}\n",
       "\\frac{1}{2} & - \\frac{i}{2}  \\\\\n",
       " \\frac{i}{2} & \\frac{1}{2}  \\\\\n",
       " \\end{bmatrix}\n",
       "$$"
      ],
      "text/plain": [
       "<IPython.core.display.Latex object>"
      ]
     },
     "metadata": {},
     "output_type": "display_data"
    },
    {
     "data": {
      "text/latex": [
       "$$\n",
       "\n",
       "\\begin{bmatrix}\n",
       "\\frac{1}{2} & \\frac{i}{2}  \\\\\n",
       " - \\frac{i}{2} & \\frac{1}{2}  \\\\\n",
       " \\end{bmatrix}\n",
       "$$"
      ],
      "text/plain": [
       "<IPython.core.display.Latex object>"
      ]
     },
     "metadata": {},
     "output_type": "display_data"
    },
    {
     "data": {
      "text/latex": [
       "$$\n",
       "\n",
       "\\begin{bmatrix}\n",
       "\\frac{5}{9} & - \\frac{2}{9} - \\frac{4 i}{9}  \\\\\n",
       " - \\frac{2}{9} + \\frac{4 i}{9} & \\frac{4}{9}  \\\\\n",
       " \\end{bmatrix}\n",
       "$$"
      ],
      "text/plain": [
       "<IPython.core.display.Latex object>"
      ]
     },
     "metadata": {},
     "output_type": "display_data"
    }
   ],
   "source": [
    "# Define and display examples of density matrices\n",
    "# using the Statevector package\n",
    "\n",
    "ket_0 = Statevector.from_label('0')\n",
    "ket_1 = Statevector.from_label('1')\n",
    "ket_plus = Statevector.from_label('+')\n",
    "ket_minus = Statevector.from_label('-')\n",
    "ket_iplus = Statevector.from_label('r')\n",
    "ket_iminus = Statevector.from_label('l')\n",
    "v = Statevector([(1 + 2j) / 3, -2 / 3])\n",
    "\n",
    "display(array_to_latex(ket_0.to_operator()))\n",
    "display(array_to_latex(ket_1.to_operator()))\n",
    "display(array_to_latex(ket_plus.to_operator()))\n",
    "display(array_to_latex(ket_minus.to_operator()))\n",
    "display(array_to_latex(ket_iplus.to_operator()))\n",
    "display(array_to_latex(ket_iminus.to_operator()))\n",
    "display(array_to_latex(v.to_operator()))"
   ]
  },
  {
   "cell_type": "code",
   "execution_count": 21,
   "id": "6980b21b",
   "metadata": {},
   "outputs": [
    {
     "data": {
      "text/latex": [
       "$$\n",
       "\n",
       "\\begin{bmatrix}\n",
       "1 & 0  \\\\\n",
       " 0 & 0  \\\\\n",
       " \\end{bmatrix}\n",
       "$$"
      ],
      "text/plain": [
       "<IPython.core.display.Latex object>"
      ]
     },
     "metadata": {},
     "output_type": "display_data"
    },
    {
     "data": {
      "text/latex": [
       "$$\n",
       "\n",
       "\\begin{bmatrix}\n",
       "0 & 0  \\\\\n",
       " 0 & 1  \\\\\n",
       " \\end{bmatrix}\n",
       "$$"
      ],
      "text/plain": [
       "<IPython.core.display.Latex object>"
      ]
     },
     "metadata": {},
     "output_type": "display_data"
    },
    {
     "data": {
      "text/latex": [
       "$$\n",
       "\n",
       "\\begin{bmatrix}\n",
       "\\frac{1}{2} & \\frac{1}{2}  \\\\\n",
       " \\frac{1}{2} & \\frac{1}{2}  \\\\\n",
       " \\end{bmatrix}\n",
       "$$"
      ],
      "text/plain": [
       "<IPython.core.display.Latex object>"
      ]
     },
     "metadata": {},
     "output_type": "display_data"
    },
    {
     "data": {
      "text/latex": [
       "$$\n",
       "\n",
       "\\begin{bmatrix}\n",
       "\\frac{1}{2} & - \\frac{1}{2}  \\\\\n",
       " - \\frac{1}{2} & \\frac{1}{2}  \\\\\n",
       " \\end{bmatrix}\n",
       "$$"
      ],
      "text/plain": [
       "<IPython.core.display.Latex object>"
      ]
     },
     "metadata": {},
     "output_type": "display_data"
    },
    {
     "data": {
      "text/latex": [
       "$$\n",
       "\n",
       "\\begin{bmatrix}\n",
       "\\frac{1}{2} & - \\frac{i}{2}  \\\\\n",
       " \\frac{i}{2} & \\frac{1}{2}  \\\\\n",
       " \\end{bmatrix}\n",
       "$$"
      ],
      "text/plain": [
       "<IPython.core.display.Latex object>"
      ]
     },
     "metadata": {},
     "output_type": "display_data"
    },
    {
     "data": {
      "text/latex": [
       "$$\n",
       "\n",
       "\\begin{bmatrix}\n",
       "\\frac{1}{2} & \\frac{i}{2}  \\\\\n",
       " - \\frac{i}{2} & \\frac{1}{2}  \\\\\n",
       " \\end{bmatrix}\n",
       "$$"
      ],
      "text/plain": [
       "<IPython.core.display.Latex object>"
      ]
     },
     "metadata": {},
     "output_type": "display_data"
    }
   ],
   "source": [
    "# Define and display examples of density matrices\n",
    "# using the DensityMatrix package\n",
    "\n",
    "rho_0 = DensityMatrix.from_label('0')\n",
    "rho_1 = DensityMatrix.from_label('1')\n",
    "rho_plus = DensityMatrix.from_label('+')\n",
    "rho_minus = DensityMatrix.from_label('-')\n",
    "rho_iplus = DensityMatrix.from_label('r')\n",
    "rho_iminus = DensityMatrix.from_label('l')\n",
    "\n",
    "display(rho_0.draw('latex'))\n",
    "display(rho_1.draw('latex'))\n",
    "display(rho_plus.draw('latex'))\n",
    "display(rho_minus.draw('latex'))\n",
    "display(rho_iplus.draw('latex'))\n",
    "display(rho_iminus.draw('latex'))"
   ]
  }
 ],
 "metadata": {
  "kernelspec": {
   "display_name": "qiskit-dev",
   "language": "python",
   "name": "python3"
  },
  "language_info": {
   "codemirror_mode": {
    "name": "ipython",
    "version": 3
   },
   "file_extension": ".py",
   "mimetype": "text/x-python",
   "name": "python",
   "nbconvert_exporter": "python",
   "pygments_lexer": "ipython3",
   "version": "3.13.3"
  }
 },
 "nbformat": 4,
 "nbformat_minor": 5
}
