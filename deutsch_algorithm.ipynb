{
 "cells": [
  {
   "cell_type": "code",
   "execution_count": 1,
   "id": "0b8547bb",
   "metadata": {},
   "outputs": [
    {
     "name": "stdout",
     "output_type": "stream",
     "text": [
      "2.0.1\n"
     ]
    }
   ],
   "source": [
    "from qiskit import __version__\n",
    "print(__version__)"
   ]
  },
  {
   "cell_type": "code",
   "execution_count": 2,
   "id": "17e51d34",
   "metadata": {},
   "outputs": [],
   "source": [
    "from qiskit import QuantumCircuit\n",
    "from qiskit_aer import AerSimulator"
   ]
  },
  {
   "cell_type": "markdown",
   "id": "8de6931a",
   "metadata": {},
   "source": [
    "We define the following function to implement a query gate for one of the four fundamental functions:"
   ]
  },
  {
   "cell_type": "code",
   "execution_count": 3,
   "id": "68155ead",
   "metadata": {},
   "outputs": [],
   "source": [
    "def deutsch_function(case: int):\n",
    "    # This function generates a quantum circuit for one of the 4 functions\n",
    "    # from one bit to one bit\n",
    "\n",
    "    if case not in [1, 2, 3, 4]:\n",
    "        raise ValueError(\"`case` must be 1, 2, 3, or 4.\")\n",
    "\n",
    "    f = QuantumCircuit(2)\n",
    "    if case in [2, 3]:\n",
    "        f.cx(0, 1)\n",
    "    if case in [3, 4]:\n",
    "        f.x(1)\n",
    "    return f"
   ]
  },
  {
   "cell_type": "code",
   "execution_count": 4,
   "id": "df5fe68d",
   "metadata": {},
   "outputs": [
    {
     "data": {
      "image/png": "[encoded data removed]",
      "text/plain": [
       "<Figure size 287.294x200.667 with 1 Axes>"
      ]
     },
     "metadata": {},
     "output_type": "display_data"
    }
   ],
   "source": [
    "display(deutsch_function(3).draw(output=\"mpl\"))"
   ]
  },
  {
   "cell_type": "markdown",
   "id": "faefbe21",
   "metadata": {},
   "source": [
    "The following is the actual quantum circuit for Deutsch's algorithm:"
   ]
  },
  {
   "cell_type": "code",
   "execution_count": 5,
   "id": "58bb708c",
   "metadata": {},
   "outputs": [],
   "source": [
    "def compile_circuit(function: QuantumCircuit):\n",
    "    # Compiles a circuit for use in Deutsch's algorithm.\n",
    "\n",
    "    n = function.num_qubits - 1\n",
    "    qc = QuantumCircuit(n + 1, n)\n",
    "\n",
    "    qc.x(n)\n",
    "    qc.h(range(n + 1))\n",
    "\n",
    "    qc.barrier()\n",
    "    qc.compose(function, inplace=True)\n",
    "    qc.barrier()\n",
    "\n",
    "    qc.h(range(n))\n",
    "    qc.measure(range(n), range(n))\n",
    "\n",
    "    return qc"
   ]
  },
  {
   "cell_type": "code",
   "execution_count": 6,
   "id": "2fcb3ed1",
   "metadata": {},
   "outputs": [
    {
     "data": {
      "image/png": "[encoded data removed]",
      "text/plain": [
       "<Figure size 788.961x284.278 with 1 Axes>"
      ]
     },
     "metadata": {},
     "output_type": "display_data"
    }
   ],
   "source": [
    "display(compile_circuit(deutsch_function(3)).draw(output=\"mpl\"))"
   ]
  },
  {
   "cell_type": "markdown",
   "id": "bd3c44bb",
   "metadata": {},
   "source": [
    "The following is a function that will run the circuit for a given function:"
   ]
  },
  {
   "cell_type": "code",
   "execution_count": 7,
   "id": "52787983",
   "metadata": {},
   "outputs": [],
   "source": [
    "def deutsch_algorithm(function: QuantumCircuit):\n",
    "    # Determine if a one-bit function is constant or balanced.\n",
    "\n",
    "    qc = compile_circuit(function)\n",
    "\n",
    "    result = AerSimulator().run(qc, shots=1, memory=True).result()\n",
    "    measurements = result.get_memory()\n",
    "    if measurements[0] == \"0\":\n",
    "        return \"constant\"\n",
    "    return \"balanced\""
   ]
  },
  {
   "cell_type": "code",
   "execution_count": 10,
   "id": "e3854544",
   "metadata": {},
   "outputs": [
    {
     "data": {
      "text/plain": [
       "'constant'"
      ]
     },
     "metadata": {},
     "output_type": "display_data"
    },
    {
     "data": {
      "text/plain": [
       "'balanced'"
      ]
     },
     "metadata": {},
     "output_type": "display_data"
    },
    {
     "data": {
      "text/plain": [
       "'balanced'"
      ]
     },
     "metadata": {},
     "output_type": "display_data"
    },
    {
     "data": {
      "text/plain": [
       "'constant'"
      ]
     },
     "metadata": {},
     "output_type": "display_data"
    }
   ],
   "source": [
    "for i in range(1,5):\n",
    "    f = deutsch_function(i)\n",
    "    display(deutsch_algorithm(f))"
   ]
  }
 ],
 "metadata": {
  "kernelspec": {
   "display_name": "qiskit-dev",
   "language": "python",
   "name": "python3"
  },
  "language_info": {
   "codemirror_mode": {
    "name": "ipython",
    "version": 3
   },
   "file_extension": ".py",
   "mimetype": "text/x-python",
   "name": "python",
   "nbconvert_exporter": "python",
   "pygments_lexer": "ipython3",
   "version": "3.13.3"
  }
 },
 "nbformat": 4,
 "nbformat_minor": 5
}
