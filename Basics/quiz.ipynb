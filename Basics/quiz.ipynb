{
 "cells": [
  {
   "cell_type": "code",
   "execution_count": 11,
   "metadata": {},
   "outputs": [
    {
     "name": "stdout",
     "output_type": "stream",
     "text": [
      "1.4.2\n"
     ]
    }
   ],
   "source": [
    "from qiskit import __version__\n",
    "print(__version__)\n",
    "\n",
    "from qiskit import QuantumCircuit, QuantumRegister, ClassicalRegister\n",
    "from qiskit.quantum_info import Statevector, Operator\n",
    "from qiskit_aer import AerSimulator\n",
    "from qiskit.visualization import plot_histogram, array_to_latex\n",
    "from qiskit.result import marginal_distribution\n",
    "from qiskit.circuit.library import UGate\n",
    "from numpy import pi, random\n",
    "from qiskit.visualization import array_to_latex\n"
   ]
  },
  {
   "cell_type": "code",
   "execution_count": 12,
   "metadata": {},
   "outputs": [
    {
     "data": {
      "image/png": "[encoded data removed]",
      "text/plain": [
       "<Figure size 352.675x200.667 with 1 Axes>"
      ]
     },
     "metadata": {},
     "output_type": "display_data"
    },
    {
     "data": {
      "text/latex": [
       "$$\\frac{1}{2} |00\\rangle- \\frac{1}{2} |01\\rangle+\\frac{1}{2} |10\\rangle- \\frac{1}{2} |11\\rangle$$"
      ],
      "text/plain": [
       "<IPython.core.display.Latex object>"
      ]
     },
     "metadata": {},
     "output_type": "display_data"
    },
    {
     "data": {
      "text/latex": [
       "$$\n",
       "\n",
       "\\begin{bmatrix}\n",
       "\\frac{1}{2} & \\frac{1}{2} & \\frac{i}{2} & \\frac{i}{2}  \\\\\n",
       " - \\frac{1}{2} & \\frac{1}{2} & \\frac{i}{2} & - \\frac{i}{2}  \\\\\n",
       " \\frac{1}{2} & \\frac{1}{2} & - \\frac{i}{2} & - \\frac{i}{2}  \\\\\n",
       " - \\frac{1}{2} & \\frac{1}{2} & - \\frac{i}{2} & \\frac{i}{2}  \\\\\n",
       " \\end{bmatrix}\n",
       "$$"
      ],
      "text/plain": [
       "<IPython.core.display.Latex object>"
      ]
     },
     "metadata": {},
     "output_type": "display_data"
    }
   ],
   "source": [
    "qbit0 = QuantumRegister(1, \"0\")\n",
    "qbit1 = QuantumRegister(1, \"1\")\n",
    "\n",
    "circuit = QuantumCircuit(qbit0, qbit1)\n",
    "\n",
    "circuit.x(qbit0)\n",
    "circuit.s(qbit1)\n",
    "circuit.cx(qbit1, qbit0)\n",
    "circuit.h(qbit0)\n",
    "circuit.h(qbit1)\n",
    "\n",
    "display(circuit.draw(output=\"mpl\"))\n",
    "state = Statevector.from_instruction(circuit)\n",
    "display(state.draw(output='latex'))\n",
    "display(Operator.from_circuit(circuit).draw(\"latex\"))"
   ]
  }
 ],
 "metadata": {
  "kernelspec": {
   "display_name": ".venv",
   "language": "python",
   "name": "python3"
  },
  "language_info": {
   "codemirror_mode": {
    "name": "ipython",
    "version": 3
   },
   "file_extension": ".py",
   "mimetype": "text/x-python",
   "name": "python",
   "nbconvert_exporter": "python",
   "pygments_lexer": "ipython3",
   "version": "3.12.0"
  }
 },
 "nbformat": 4,
 "nbformat_minor": 2
}
